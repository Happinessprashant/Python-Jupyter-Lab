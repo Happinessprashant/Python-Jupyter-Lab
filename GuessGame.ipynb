{
 "cells": [
  {
   "cell_type": "code",
   "execution_count": 1,
   "id": "916ee048",
   "metadata": {},
   "outputs": [
    {
     "name": "stdout",
     "output_type": "stream",
     "text": [
      "What's your name? p\n",
      "Welcome!!  p, let's play 'Guess my number game'!!\n",
      "You have 5 chances to guess my Secret number, all the best!!\n",
      "I'm thinking of a number between 1 and 20.\n",
      "Guess any number between 1 to 20 : 15\n",
      "Congratulations! ,p You guessed the correct number in  1  guesses!\n"
     ]
    }
   ],
   "source": [
    "import random\n",
    "name=input(\"What's your name? \")\n",
    "print(f\"Welcome!!  {name}, let's play 'Guess my number game'!!\")\n",
    "print(\"You have 5 chances to guess my Secret number, all the best!!\")\n",
    "print(\"I'm thinking of a number between 1 and 20.\")\n",
    "    \n",
    "def getnumber():\n",
    "    number = random.randint(1, 20)\n",
    "    guesses_taken = 0\n",
    "    \n",
    "    while True:\n",
    "        \n",
    "           if guesses_taken<5:\n",
    "                guessnumber = (input(\"Guess any number between 1 to 20 : \"))\n",
    "                if guessnumber.isdigit():\n",
    "                    guessnumber=int(guessnumber)\n",
    "                else:\n",
    "                    print(\"Can not accept your input. Enter a valid number between 1 to 20!!\")\n",
    "                    continue \n",
    "                    \n",
    "                guesses_taken += 1\n",
    "        \n",
    "                if guessnumber < number:\n",
    "                    print(\"Your guess is too low. Try again!\")\n",
    "                elif guessnumber > number:\n",
    "                    print(\"Your guess is too high. Try again!\")\n",
    "                else:\n",
    "                    \n",
    "                    \n",
    "                    print(f\"Congratulations! ,{name} You guessed the pcorrect number in \" ,(guesses_taken) , \" guesses!\")\n",
    "                    break\n",
    "          \n",
    "           else:\n",
    "                print(f\"Thank You !, {name}\")\n",
    "                print(f\"Beter Luck next time\")\n",
    "                break\n",
    "\n",
    "            \n",
    "            \n",
    "getnumber()"
   ]
  },
  {
   "cell_type": "code",
   "execution_count": null,
   "id": "a14c6377",
   "metadata": {},
   "outputs": [],
   "source": []
  },
  {
   "cell_type": "code",
   "execution_count": null,
   "id": "28ec77cc",
   "metadata": {},
   "outputs": [],
   "source": []
  },
  {
   "cell_type": "code",
   "execution_count": null,
   "id": "ed4f854b",
   "metadata": {},
   "outputs": [],
   "source": []
  },
  {
   "cell_type": "code",
   "execution_count": 6,
   "id": "63a480f2",
   "metadata": {},
   "outputs": [
    {
     "name": "stdout",
     "output_type": "stream",
     "text": [
      "What's your name? Prashant Shivaji Jadhav\n",
      "Welcome!!  Prashant Shivaji Jadhav, let's play 'Guess my number game'!!\n",
      "You have 5 chances to guess my Secret number, all the best!!\n",
      "I'm thinking of a number between 1 and 20.\n",
      " \n",
      " \n",
      "Guess any number between 1 to 20 : 78\n",
      "Your input is 78,Please  Enter a valid number between 1 and 20 \n",
      " \n",
      " \n",
      "Guess any number between 1 to 20 : 5\n",
      "Your guess is too high. Try again!\n",
      " \n",
      " \n",
      "Guess any number between 1 to 20 : 3\n",
      "Congratulations! , Prashant Shivaji Jadhav You guessed the correct number in  {2}  guesses!\n"
     ]
    }
   ],
   "source": [
    "import random\n",
    "name=input(\"What's your name? \")\n",
    "print(f\"Welcome!!  {name}, let's play 'Guess my number game'!!\")\n",
    "print(\"You have 5 chances to guess my Secret number, all the best!!\")\n",
    "print(\"I'm thinking of a number between 1 and 20.\")\n",
    "print(\" \")\n",
    "\n",
    "def get_num():\n",
    "  \n",
    "    guesses_taken = 0\n",
    "    \n",
    "    while True:\n",
    "        \n",
    "        try:\n",
    "            \n",
    "            print(\" \")\n",
    "            guessnumber = int(input(\"Guess any number between 1 to 20 : \"))\n",
    "            \n",
    "            if(guessnumber <1 or guessnumber>21):\n",
    "                print(f\"Your input is {guessnumber},Please  Enter a valid number between 1 and 20 \")\n",
    "                print(\" \")\n",
    "            else:\n",
    "                global num\n",
    "                num=guessnumber\n",
    "                break \n",
    "        except:\n",
    "             print(f\"con not accept input . Enter a valid number between 1 and 20 \")\n",
    "                \n",
    "                \n",
    "                \n",
    "number = random.randint(1, 20)               \n",
    "for i in range(1,6):\n",
    "    get_num()\n",
    "    if number== num:\n",
    "        print(f\"Congratulations! , {name} You guessed the correct number in \" ,{i} , \" guesses!\")\n",
    "        break\n",
    "    elif num < number:\n",
    "                print(\"Your guess is too low. Try again!\")\n",
    "                print(\" \")\n",
    "    elif num > number:\n",
    "             print(\"Your guess is too high. Try again!\")\n",
    "             print(\" \")\n",
    "if number!=num:\n",
    "    print(\" \")\n",
    "    print(f\"Thank You !, {name}\")\n",
    "    print(f\"Beter Luck next time\")"
   ]
  },
  {
   "cell_type": "code",
   "execution_count": null,
   "id": "4188af9d",
   "metadata": {},
   "outputs": [],
   "source": []
  }
 ],
 "metadata": {
  "kernelspec": {
   "display_name": "Python 3 (ipykernel)",
   "language": "python",
   "name": "python3"
  },
  "language_info": {
   "codemirror_mode": {
    "name": "ipython",
    "version": 3
   },
   "file_extension": ".py",
   "mimetype": "text/x-python",
   "name": "python",
   "nbconvert_exporter": "python",
   "pygments_lexer": "ipython3",
   "version": "3.10.9"
  }
 },
 "nbformat": 4,
 "nbformat_minor": 5
}
