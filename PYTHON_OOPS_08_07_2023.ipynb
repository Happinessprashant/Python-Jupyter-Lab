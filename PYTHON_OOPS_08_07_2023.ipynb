{
 "cells": [
  {
   "cell_type": "code",
   "execution_count": 2,
   "id": "bd0a00b1",
   "metadata": {},
   "outputs": [
    {
     "data": {
      "text/plain": [
       "0"
      ]
     },
     "execution_count": 2,
     "metadata": {},
     "output_type": "execute_result"
    }
   ],
   "source": [
    "0"
   ]
  },
  {
   "cell_type": "code",
   "execution_count": 3,
   "id": "0c7146a7",
   "metadata": {},
   "outputs": [],
   "source": [
    "#                                 OOPS"
   ]
  },
  {
   "cell_type": "code",
   "execution_count": null,
   "id": "68e01085",
   "metadata": {},
   "outputs": [],
   "source": []
  },
  {
   "cell_type": "code",
   "execution_count": null,
   "id": "11eccde5",
   "metadata": {},
   "outputs": [],
   "source": [
    "# Class : "
   ]
  },
  {
   "cell_type": "code",
   "execution_count": 5,
   "id": "06a36ec4",
   "metadata": {},
   "outputs": [
    {
     "data": {
      "text/plain": [
       "1"
      ]
     },
     "execution_count": 5,
     "metadata": {},
     "output_type": "execute_result"
    }
   ],
   "source": [
    "a=1\n",
    "a"
   ]
  },
  {
   "cell_type": "code",
   "execution_count": 8,
   "id": "d149bb49",
   "metadata": {},
   "outputs": [],
   "source": [
    "class Prashant:\n",
    "    pass"
   ]
  },
  {
   "cell_type": "code",
   "execution_count": 15,
   "id": "61a3d813",
   "metadata": {},
   "outputs": [],
   "source": [
    "a=Prashant()"
   ]
  },
  {
   "cell_type": "code",
   "execution_count": 16,
   "id": "e59cb33c",
   "metadata": {},
   "outputs": [
    {
     "data": {
      "text/plain": [
       "<__main__.Prashant at 0x2223c1048e0>"
      ]
     },
     "execution_count": 16,
     "metadata": {},
     "output_type": "execute_result"
    }
   ],
   "source": [
    "a"
   ]
  },
  {
   "cell_type": "code",
   "execution_count": 18,
   "id": "6ce99f60",
   "metadata": {},
   "outputs": [
    {
     "name": "stdout",
     "output_type": "stream",
     "text": [
      "<class '__main__.Prashant'>\n"
     ]
    }
   ],
   "source": [
    "print(type(a))"
   ]
  },
  {
   "cell_type": "code",
   "execution_count": 22,
   "id": "50ddbd31",
   "metadata": {},
   "outputs": [],
   "source": [
    "class test:\n",
    "    def p():\n",
    "        print(\"prashant\")"
   ]
  },
  {
   "cell_type": "code",
   "execution_count": 24,
   "id": "ce584ad9",
   "metadata": {},
   "outputs": [],
   "source": [
    "a=test()"
   ]
  },
  {
   "cell_type": "code",
   "execution_count": 25,
   "id": "dc38a143",
   "metadata": {},
   "outputs": [
    {
     "ename": "TypeError",
     "evalue": "test.p() takes 0 positional arguments but 1 was given",
     "output_type": "error",
     "traceback": [
      "\u001b[1;31m---------------------------------------------------------------------------\u001b[0m",
      "\u001b[1;31mTypeError\u001b[0m                                 Traceback (most recent call last)",
      "Cell \u001b[1;32mIn[25], line 1\u001b[0m\n\u001b[1;32m----> 1\u001b[0m \u001b[43ma\u001b[49m\u001b[38;5;241;43m.\u001b[39;49m\u001b[43mp\u001b[49m\u001b[43m(\u001b[49m\u001b[43m)\u001b[49m\n",
      "\u001b[1;31mTypeError\u001b[0m: test.p() takes 0 positional arguments but 1 was given"
     ]
    }
   ],
   "source": [
    "a.p()"
   ]
  },
  {
   "cell_type": "code",
   "execution_count": 26,
   "id": "a6574c6f",
   "metadata": {},
   "outputs": [],
   "source": [
    "class test:\n",
    "    def p(self):\n",
    "        print(\"prashant\")"
   ]
  },
  {
   "cell_type": "code",
   "execution_count": 27,
   "id": "22b55db2",
   "metadata": {},
   "outputs": [],
   "source": [
    "a=test()"
   ]
  },
  {
   "cell_type": "code",
   "execution_count": 29,
   "id": "10643ffb",
   "metadata": {},
   "outputs": [
    {
     "name": "stdout",
     "output_type": "stream",
     "text": [
      "prashant\n"
     ]
    }
   ],
   "source": [
    "a.p()\n"
   ]
  },
  {
   "cell_type": "code",
   "execution_count": 36,
   "id": "4d459b81",
   "metadata": {},
   "outputs": [],
   "source": [
    "class math:\n",
    "    \n",
    "    def add(self,x,y):\n",
    "        return (\"Addition is \",x+y)"
   ]
  },
  {
   "cell_type": "code",
   "execution_count": 37,
   "id": "9576f33f",
   "metadata": {},
   "outputs": [],
   "source": [
    "m=math()"
   ]
  },
  {
   "cell_type": "code",
   "execution_count": 38,
   "id": "5dcdb232",
   "metadata": {},
   "outputs": [
    {
     "data": {
      "text/plain": [
       "('Addition is ', 5)"
      ]
     },
     "execution_count": 38,
     "metadata": {},
     "output_type": "execute_result"
    }
   ],
   "source": [
    "m.add(2,3)"
   ]
  },
  {
   "cell_type": "code",
   "execution_count": null,
   "id": "2e4c5d0a",
   "metadata": {},
   "outputs": [],
   "source": []
  },
  {
   "cell_type": "code",
   "execution_count": 41,
   "id": "b9e888cb",
   "metadata": {},
   "outputs": [],
   "source": [
    "class pwskills:\n",
    "    \n",
    "    def __init__(self,phno , email_id , student_id):\n",
    "        self.phno=phno\n",
    "        self.email_id=email_id\n",
    "        self.student_id=student_id\n",
    "        \n",
    "    \n",
    "    def print(self):\n",
    "        return self.student_id ,self.email_id ,self.phno\n",
    "        \n",
    "        "
   ]
  },
  {
   "cell_type": "code",
   "execution_count": 42,
   "id": "28b2ca97",
   "metadata": {},
   "outputs": [
    {
     "ename": "TypeError",
     "evalue": "pwskills.__init__() missing 3 required positional arguments: 'phno', 'email_id', and 'student_id'",
     "output_type": "error",
     "traceback": [
      "\u001b[1;31m---------------------------------------------------------------------------\u001b[0m",
      "\u001b[1;31mTypeError\u001b[0m                                 Traceback (most recent call last)",
      "Cell \u001b[1;32mIn[42], line 1\u001b[0m\n\u001b[1;32m----> 1\u001b[0m a\u001b[38;5;241m=\u001b[39m\u001b[43mpwskills\u001b[49m\u001b[43m(\u001b[49m\u001b[43m)\u001b[49m\n",
      "\u001b[1;31mTypeError\u001b[0m: pwskills.__init__() missing 3 required positional arguments: 'phno', 'email_id', and 'student_id'"
     ]
    }
   ],
   "source": [
    "a=pwskills()"
   ]
  },
  {
   "cell_type": "code",
   "execution_count": 47,
   "id": "e7461bb1",
   "metadata": {},
   "outputs": [],
   "source": [
    "a=pwskills(8459907108,\"prashant@gmail.com\",101)"
   ]
  },
  {
   "cell_type": "code",
   "execution_count": 48,
   "id": "91c2e20c",
   "metadata": {},
   "outputs": [
    {
     "name": "stdout",
     "output_type": "stream",
     "text": [
      "<__main__.pwskills object at 0x000002223D7AC760>\n"
     ]
    }
   ],
   "source": [
    "print(a)"
   ]
  },
  {
   "cell_type": "code",
   "execution_count": 49,
   "id": "9977faa6",
   "metadata": {},
   "outputs": [
    {
     "data": {
      "text/plain": [
       "(101, 'prashant@gmail.com', 8459907108)"
      ]
     },
     "execution_count": 49,
     "metadata": {},
     "output_type": "execute_result"
    }
   ],
   "source": [
    "a.print()"
   ]
  },
  {
   "cell_type": "code",
   "execution_count": null,
   "id": "3b9eb9dd",
   "metadata": {},
   "outputs": [],
   "source": []
  },
  {
   "cell_type": "code",
   "execution_count": null,
   "id": "d6b6ad57",
   "metadata": {},
   "outputs": [],
   "source": []
  },
  {
   "cell_type": "code",
   "execution_count": 54,
   "id": "1ffef4ce",
   "metadata": {},
   "outputs": [
    {
     "name": "stdout",
     "output_type": "stream",
     "text": [
      "enter numberk\n"
     ]
    },
    {
     "ename": "ValueError",
     "evalue": "invalid literal for int() with base 10: 'k'",
     "output_type": "error",
     "traceback": [
      "\u001b[1;31m---------------------------------------------------------------------------\u001b[0m",
      "\u001b[1;31mValueError\u001b[0m                                Traceback (most recent call last)",
      "Cell \u001b[1;32mIn[54], line 2\u001b[0m\n\u001b[0;32m      1\u001b[0m \u001b[38;5;28;01mfor\u001b[39;00m i \u001b[38;5;129;01min\u001b[39;00m \u001b[38;5;28mrange\u001b[39m(\u001b[38;5;241m3\u001b[39m):\n\u001b[1;32m----> 2\u001b[0m     x\u001b[38;5;241m=\u001b[39m\u001b[38;5;28;43mint\u001b[39;49m\u001b[43m(\u001b[49m\u001b[38;5;28;43minput\u001b[39;49m\u001b[43m(\u001b[49m\u001b[38;5;124;43m\"\u001b[39;49m\u001b[38;5;124;43menter number\u001b[39;49m\u001b[38;5;124;43m\"\u001b[39;49m\u001b[43m)\u001b[49m\u001b[43m)\u001b[49m\n\u001b[0;32m      3\u001b[0m     y\u001b[38;5;241m=\u001b[39m\u001b[38;5;28minput\u001b[39m(\u001b[38;5;124m\"\u001b[39m\u001b[38;5;124menter email id\u001b[39m\u001b[38;5;124m\"\u001b[39m)\n\u001b[0;32m      4\u001b[0m     z\u001b[38;5;241m=\u001b[39m\u001b[38;5;28mint\u001b[39m(\u001b[38;5;28minput\u001b[39m(\u001b[38;5;124m\"\u001b[39m\u001b[38;5;124menter number\u001b[39m\u001b[38;5;124m\"\u001b[39m))\n",
      "\u001b[1;31mValueError\u001b[0m: invalid literal for int() with base 10: 'k'"
     ]
    }
   ],
   "source": [
    "for i in range(3):\n",
    "    x=int(input(\"enter number\"))\n",
    "    y=input(\"enter email id\")\n",
    "    z=int(input(\"enter number\"))\n",
    "    a=pwskills(x,y,z)"
   ]
  },
  {
   "cell_type": "code",
   "execution_count": 52,
   "id": "1627353d",
   "metadata": {},
   "outputs": [],
   "source": [
    "for i in range(3):\n",
    "    a.print()"
   ]
  },
  {
   "cell_type": "code",
   "execution_count": 53,
   "id": "f91a2d93",
   "metadata": {},
   "outputs": [
    {
     "data": {
      "text/plain": [
       "(3, 'c@.com', 123654)"
      ]
     },
     "execution_count": 53,
     "metadata": {},
     "output_type": "execute_result"
    }
   ],
   "source": [
    "a.print()"
   ]
  },
  {
   "cell_type": "code",
   "execution_count": null,
   "id": "c5735e6d",
   "metadata": {},
   "outputs": [],
   "source": []
  },
  {
   "cell_type": "code",
   "execution_count": null,
   "id": "8241f0d8",
   "metadata": {},
   "outputs": [],
   "source": []
  },
  {
   "cell_type": "code",
   "execution_count": 58,
   "id": "ad05c8e8",
   "metadata": {},
   "outputs": [],
   "source": [
    "class pwskills1:\n",
    "    \n",
    "    def __init__(self,phno , email_id , student_id):\n",
    "        self.phno1=phno\n",
    "        self.email_id1=email_id\n",
    "        self.student_id1=student_id\n",
    "        \n",
    "    \n",
    "    def print(self):\n",
    "        return self.student_id ,self.email_id ,self.phno\n",
    "        "
   ]
  },
  {
   "cell_type": "code",
   "execution_count": 59,
   "id": "b30d2129",
   "metadata": {},
   "outputs": [],
   "source": [
    "a=pwskills1(8459907108,\"prashant@gmail.com\",101)"
   ]
  },
  {
   "cell_type": "code",
   "execution_count": 60,
   "id": "bf53263b",
   "metadata": {},
   "outputs": [
    {
     "ename": "AttributeError",
     "evalue": "'pwskills1' object has no attribute 'student_id'",
     "output_type": "error",
     "traceback": [
      "\u001b[1;31m---------------------------------------------------------------------------\u001b[0m",
      "\u001b[1;31mAttributeError\u001b[0m                            Traceback (most recent call last)",
      "Cell \u001b[1;32mIn[60], line 1\u001b[0m\n\u001b[1;32m----> 1\u001b[0m \u001b[43ma\u001b[49m\u001b[38;5;241;43m.\u001b[39;49m\u001b[43mprint\u001b[49m\u001b[43m(\u001b[49m\u001b[43m)\u001b[49m\n",
      "Cell \u001b[1;32mIn[58], line 10\u001b[0m, in \u001b[0;36mpwskills1.print\u001b[1;34m(self)\u001b[0m\n\u001b[0;32m      9\u001b[0m \u001b[38;5;28;01mdef\u001b[39;00m \u001b[38;5;21mprint\u001b[39m(\u001b[38;5;28mself\u001b[39m):\n\u001b[1;32m---> 10\u001b[0m     \u001b[38;5;28;01mreturn\u001b[39;00m \u001b[38;5;28;43mself\u001b[39;49m\u001b[38;5;241;43m.\u001b[39;49m\u001b[43mstudent_id\u001b[49m ,\u001b[38;5;28mself\u001b[39m\u001b[38;5;241m.\u001b[39memail_id ,\u001b[38;5;28mself\u001b[39m\u001b[38;5;241m.\u001b[39mphno\n",
      "\u001b[1;31mAttributeError\u001b[0m: 'pwskills1' object has no attribute 'student_id'"
     ]
    }
   ],
   "source": [
    "a.print()"
   ]
  },
  {
   "cell_type": "code",
   "execution_count": null,
   "id": "06437af5",
   "metadata": {},
   "outputs": [],
   "source": []
  },
  {
   "cell_type": "code",
   "execution_count": null,
   "id": "0a8ff363",
   "metadata": {},
   "outputs": [],
   "source": []
  },
  {
   "cell_type": "code",
   "execution_count": 64,
   "id": "0c373afe",
   "metadata": {},
   "outputs": [],
   "source": [
    "class pwskills1:\n",
    "    \n",
    "    def __init__(self,phno , email_id , student_id):\n",
    "        self.phno1=phno\n",
    "        self.email_id1=email_id\n",
    "        self.student_id1=student_id\n",
    "        \n",
    "    \n",
    "    def print(self):\n",
    "        return self.student_id1 ,self.email_id1 ,self.phno1\n",
    "        "
   ]
  },
  {
   "cell_type": "code",
   "execution_count": 65,
   "id": "557350b0",
   "metadata": {},
   "outputs": [],
   "source": [
    "a=pwskills1(8459907108,\"prashant@gmail.com\",101)"
   ]
  },
  {
   "cell_type": "code",
   "execution_count": 66,
   "id": "7b11616e",
   "metadata": {},
   "outputs": [
    {
     "data": {
      "text/plain": [
       "(101, 'prashant@gmail.com', 8459907108)"
      ]
     },
     "execution_count": 66,
     "metadata": {},
     "output_type": "execute_result"
    }
   ],
   "source": [
    "a.print()"
   ]
  },
  {
   "cell_type": "code",
   "execution_count": null,
   "id": "7141ae6b",
   "metadata": {},
   "outputs": [],
   "source": []
  },
  {
   "cell_type": "code",
   "execution_count": null,
   "id": "b2bad0bc",
   "metadata": {},
   "outputs": [],
   "source": []
  },
  {
   "cell_type": "code",
   "execution_count": 74,
   "id": "3d4e7373",
   "metadata": {},
   "outputs": [],
   "source": [
    "class pwskills2:\n",
    "    \n",
    "    def __init__(p,phno , email_id , student_id):\n",
    "        p.phno1=phno\n",
    "        p.email_id1=email_id\n",
    "        p.student_id1=student_id\n",
    "        \n",
    "    \n",
    "    def print(p):\n",
    "        print(p.student_id1)\n",
    "        print(p.email_id1)\n",
    "        return p.student_id1 ,p.email_id1 ,p.phno1\n",
    "        "
   ]
  },
  {
   "cell_type": "code",
   "execution_count": 75,
   "id": "b9356e34",
   "metadata": {},
   "outputs": [],
   "source": [
    "a=pwskills2(8459907108,\"prashant@gmail.com\",101)"
   ]
  },
  {
   "cell_type": "code",
   "execution_count": 76,
   "id": "9c4f7b01",
   "metadata": {},
   "outputs": [
    {
     "name": "stdout",
     "output_type": "stream",
     "text": [
      "101\n"
     ]
    },
    {
     "data": {
      "text/plain": [
       "(101, 'prashant@gmail.com', 8459907108)"
      ]
     },
     "execution_count": 76,
     "metadata": {},
     "output_type": "execute_result"
    }
   ],
   "source": [
    "a.print()"
   ]
  },
  {
   "cell_type": "code",
   "execution_count": 215,
   "id": "e0b3ed73",
   "metadata": {},
   "outputs": [],
   "source": [
    "\n",
    "\n",
    "class personal:\n",
    "    \n",
    "    def __init__(self,name ,phno , emailid):\n",
    "        self.name=name\n",
    "        self.phno=phno\n",
    "        self.emailid=emailid\n",
    "        \n",
    "        \n",
    "    def print(self):\n",
    "        print(\"My Name is \",self.name)\n",
    "        print(\"My email id is \",self.emailid)\n",
    "        print(\"My mobile number is \",self.phno)\n",
    "        return f\"My Name is: {self.name}  My email id is: {self.emailid} My mobile number is: {self.phno}\"\n",
    "\n",
    "#         return f\"My Name is : {self.name} My email id is : {self.emailid} My mobile number is :{self.phno}\" "
   ]
  },
  {
   "cell_type": "code",
   "execution_count": 216,
   "id": "9e72331f",
   "metadata": {},
   "outputs": [],
   "source": [
    "a=personal(\"prashant\",8459907108,\"prashant@gmail.com\")"
   ]
  },
  {
   "cell_type": "code",
   "execution_count": 217,
   "id": "47cee84c",
   "metadata": {},
   "outputs": [
    {
     "name": "stdout",
     "output_type": "stream",
     "text": [
      "My Name is  prashant\n",
      "My email id is  prashant@gmail.com\n",
      "My mobile number is  8459907108\n"
     ]
    },
    {
     "data": {
      "text/plain": [
       "'My Name is: prashant  My email id is: prashant@gmail.com My mobile number is: 8459907108'"
      ]
     },
     "execution_count": 217,
     "metadata": {},
     "output_type": "execute_result"
    }
   ],
   "source": [
    "a.print()"
   ]
  },
  {
   "cell_type": "code",
   "execution_count": 107,
   "id": "892ed35b",
   "metadata": {},
   "outputs": [
    {
     "data": {
      "text/plain": [
       "'prashant'"
      ]
     },
     "execution_count": 107,
     "metadata": {},
     "output_type": "execute_result"
    }
   ],
   "source": [
    "a.name\n",
    "\n"
   ]
  },
  {
   "cell_type": "code",
   "execution_count": 108,
   "id": "96c18222",
   "metadata": {},
   "outputs": [
    {
     "data": {
      "text/plain": [
       "'prashant@gmail.com'"
      ]
     },
     "execution_count": 108,
     "metadata": {},
     "output_type": "execute_result"
    }
   ],
   "source": [
    "a.emailid\n"
   ]
  },
  {
   "cell_type": "code",
   "execution_count": 109,
   "id": "908bc39f",
   "metadata": {},
   "outputs": [
    {
     "data": {
      "text/plain": [
       "8459907108"
      ]
     },
     "execution_count": 109,
     "metadata": {},
     "output_type": "execute_result"
    }
   ],
   "source": [
    "a.phno\n"
   ]
  },
  {
   "cell_type": "code",
   "execution_count": null,
   "id": "2e75635c",
   "metadata": {},
   "outputs": [],
   "source": []
  },
  {
   "cell_type": "code",
   "execution_count": 186,
   "id": "e7a57aed",
   "metadata": {},
   "outputs": [],
   "source": [
    "class personal1:\n",
    "    \n",
    "    def __init__(self,fname,mname,lname ,phno , emailid ,address):\n",
    "        self.fname=fname\n",
    "        self.mname=mname\n",
    "        self.lname=lname\n",
    "        self.phno=phno\n",
    "        self.emailid=emailid\n",
    "        self.address=address\n",
    "        \n",
    "        \n",
    "    def print(self):\n",
    "        print(\"===========================================================================\")\n",
    "        print(\"||                        My Details                                    || \")\n",
    "        print(\"===========================================================================\")\n",
    "        print(\"|| My First Name is     ||\",self.fname ,\"                              ||\")\n",
    "        print(\"|| My Middle Name is    ||\",self.mname ,\"                               ||\")\n",
    "        print(\"|| My Last Name is      ||\",self.lname,\"                                ||\")\n",
    "              \n",
    "        print(\"|| My email id is       ||\",self.emailid ,\"                    ||\")\n",
    "        print(\"|| My mobile number is  ||\",self.phno ,\"                            ||\")\n",
    "        print(\"|| My address is        ||\",self.address ,\"                               ||\")\n",
    "        \n",
    "        \n",
    "        print(\"===========================================================================\")"
   ]
  },
  {
   "cell_type": "code",
   "execution_count": 187,
   "id": "820c0d71",
   "metadata": {},
   "outputs": [],
   "source": [
    "p=personal1(\"Prashant\" ,\"Sivaji \",\"jadhav\",8459907108,\"prashant@gmail.com\",\"Mangoli\")"
   ]
  },
  {
   "cell_type": "code",
   "execution_count": 188,
   "id": "61ad1ec1",
   "metadata": {},
   "outputs": [
    {
     "name": "stdout",
     "output_type": "stream",
     "text": [
      "===========================================================================\n",
      "||                        My Details                                    || \n",
      "===========================================================================\n",
      "|| My First Name is     || Prashant                               ||\n",
      "|| My Middle Name is    || Sivaji                                 ||\n",
      "|| My Last Name is      || jadhav                                 ||\n",
      "|| My email id is       || prashant@gmail.com                     ||\n",
      "|| My mobile number is  || 8459907108                             ||\n",
      "|| My address is        || Mangoli                                ||\n",
      "===========================================================================\n"
     ]
    }
   ],
   "source": [
    "p.print()"
   ]
  },
  {
   "cell_type": "code",
   "execution_count": null,
   "id": "fa513edc",
   "metadata": {},
   "outputs": [],
   "source": []
  },
  {
   "cell_type": "code",
   "execution_count": null,
   "id": "59787471",
   "metadata": {},
   "outputs": [],
   "source": []
  }
 ],
 "metadata": {
  "kernelspec": {
   "display_name": "Python 3 (ipykernel)",
   "language": "python",
   "name": "python3"
  },
  "language_info": {
   "codemirror_mode": {
    "name": "ipython",
    "version": 3
   },
   "file_extension": ".py",
   "mimetype": "text/x-python",
   "name": "python",
   "nbconvert_exporter": "python",
   "pygments_lexer": "ipython3",
   "version": "3.10.9"
  }
 },
 "nbformat": 4,
 "nbformat_minor": 5
}
