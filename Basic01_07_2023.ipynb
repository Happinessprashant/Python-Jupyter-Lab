{
 "cells": [
  {
   "cell_type": "code",
   "execution_count": 1,
   "id": "95021531-ad0e-4734-bdce-dcda72dd9916",
   "metadata": {},
   "outputs": [],
   "source": [
    "t=(1, 'prashant', 12, True, 23.5, (2+3j), 'jay')"
   ]
  },
  {
   "cell_type": "code",
   "execution_count": 2,
   "id": "75c4f1b5-bd93-44a8-a388-1720619865a9",
   "metadata": {},
   "outputs": [
    {
     "data": {
      "text/plain": [
       "(1, 'prashant', 12, True, 23.5, (2+3j), 'jay')"
      ]
     },
     "execution_count": 2,
     "metadata": {},
     "output_type": "execute_result"
    }
   ],
   "source": [
    "t"
   ]
  },
  {
   "cell_type": "code",
   "execution_count": 127,
   "id": "cdb76654-4683-48a0-98c9-38eb2a9b47e0",
   "metadata": {},
   "outputs": [
    {
     "ename": "TypeError",
     "evalue": "'tuple' object is not callable",
     "output_type": "error",
     "traceback": [
      "\u001b[0;31m---------------------------------------------------------------------------\u001b[0m",
      "\u001b[0;31mTypeError\u001b[0m                                 Traceback (most recent call last)",
      "Cell \u001b[0;32mIn[127], line 1\u001b[0m\n\u001b[0;32m----> 1\u001b[0m \u001b[43mt\u001b[49m\u001b[43m(\u001b[49m\u001b[38;5;241;43m1\u001b[39;49m\u001b[43m)\u001b[49m\n",
      "\u001b[0;31mTypeError\u001b[0m: 'tuple' object is not callable"
     ]
    }
   ],
   "source": [
    "t(1)"
   ]
  },
  {
   "cell_type": "code",
   "execution_count": 4,
   "id": "56792fa3-a6b6-4b6d-8896-38ecd3c67378",
   "metadata": {},
   "outputs": [],
   "source": [
    "t=(1, 'prashant', 12, True, 23.5, (2+3j), 'jay',3,[3,5,4])"
   ]
  },
  {
   "cell_type": "code",
   "execution_count": 7,
   "id": "bb152611-3ec2-4976-86e7-ed23acd31da5",
   "metadata": {},
   "outputs": [
    {
     "data": {
      "text/plain": [
       "1"
      ]
     },
     "execution_count": 7,
     "metadata": {},
     "output_type": "execute_result"
    }
   ],
   "source": [
    "t.count(3)"
   ]
  },
  {
   "cell_type": "code",
   "execution_count": 8,
   "id": "3621b5a6-b2c1-4eed-89e9-e30324705c19",
   "metadata": {},
   "outputs": [
    {
     "data": {
      "text/plain": [
       "0"
      ]
     },
     "execution_count": 8,
     "metadata": {},
     "output_type": "execute_result"
    }
   ],
   "source": [
    "t.count('a')"
   ]
  },
  {
   "cell_type": "code",
   "execution_count": 9,
   "id": "84c0b7b8-2097-4210-ad7e-cb2da79a542b",
   "metadata": {},
   "outputs": [],
   "source": [
    "s={1,2,3,4,5,7,8}"
   ]
  },
  {
   "cell_type": "code",
   "execution_count": 10,
   "id": "73727307-3075-4236-9a2a-63e55b35c4aa",
   "metadata": {},
   "outputs": [
    {
     "data": {
      "text/plain": [
       "{1, 2, 3, 4, 5, 7, 8}"
      ]
     },
     "execution_count": 10,
     "metadata": {},
     "output_type": "execute_result"
    }
   ],
   "source": [
    "s"
   ]
  },
  {
   "cell_type": "code",
   "execution_count": 73,
   "id": "8aa0283c-6c08-4131-8085-6eee9230a65f",
   "metadata": {},
   "outputs": [],
   "source": [
    "l =[1,2,3,4,12,2,1,3,4,567,8,45,85,\"Prashant\",\"prashant\"]"
   ]
  },
  {
   "cell_type": "code",
   "execution_count": 63,
   "id": "30a0d756-d803-48dd-882a-1beb93dbd1da",
   "metadata": {},
   "outputs": [],
   "source": [
    "l=list(set(l))"
   ]
  },
  {
   "cell_type": "code",
   "execution_count": 13,
   "id": "a78d8b0f-5c4c-4f85-af8b-3bf170689e07",
   "metadata": {},
   "outputs": [
    {
     "data": {
      "text/plain": [
       "[1, 2, 3, 4, 8, 12, 45, 'Prashant', 85, 567, 'prashant']"
      ]
     },
     "execution_count": 13,
     "metadata": {},
     "output_type": "execute_result"
    }
   ],
   "source": [
    "l"
   ]
  },
  {
   "cell_type": "code",
   "execution_count": 14,
   "id": "cbfc8635-7f54-42c0-b521-6f0b2b0f60cb",
   "metadata": {},
   "outputs": [],
   "source": [
    "s.add(45)"
   ]
  },
  {
   "cell_type": "code",
   "execution_count": 15,
   "id": "294ee7c1-15e3-4029-9cd6-9d85b9c104df",
   "metadata": {},
   "outputs": [
    {
     "data": {
      "text/plain": [
       "{1, 2, 3, 4, 5, 7, 8, 45}"
      ]
     },
     "execution_count": 15,
     "metadata": {},
     "output_type": "execute_result"
    }
   ],
   "source": [
    "s"
   ]
  },
  {
   "cell_type": "code",
   "execution_count": 31,
   "id": "a10bdacb-6b74-47a4-82d5-31f28971f681",
   "metadata": {},
   "outputs": [],
   "source": [
    "s.remove(4)"
   ]
  },
  {
   "cell_type": "code",
   "execution_count": 17,
   "id": "bf0249ec-b01e-496d-a5d9-80a447374ac2",
   "metadata": {},
   "outputs": [
    {
     "data": {
      "text/plain": [
       "{1, 2, 3, 4, 5, 7, 8}"
      ]
     },
     "execution_count": 17,
     "metadata": {},
     "output_type": "execute_result"
    }
   ],
   "source": [
    "s"
   ]
  },
  {
   "cell_type": "code",
   "execution_count": 74,
   "id": "a7ebe960-e57d-4d45-80c7-8e05ae605dbc",
   "metadata": {},
   "outputs": [],
   "source": [
    "l=set(l)"
   ]
  },
  {
   "cell_type": "code",
   "execution_count": 19,
   "id": "bcb57d00-8e55-4b83-86f4-47e00ac5980c",
   "metadata": {},
   "outputs": [
    {
     "data": {
      "text/plain": [
       "{1, 12, 2, 3, 4, 45, 567, 8, 85, 'Prashant', 'prashant'}"
      ]
     },
     "execution_count": 19,
     "metadata": {},
     "output_type": "execute_result"
    }
   ],
   "source": [
    "l"
   ]
  },
  {
   "cell_type": "code",
   "execution_count": 27,
   "id": "a784ab14-367e-4e23-956c-032e4d881c18",
   "metadata": {},
   "outputs": [],
   "source": [
    "l.add(\"Jadhav\")"
   ]
  },
  {
   "cell_type": "code",
   "execution_count": 33,
   "id": "8335e87e-2df5-4b08-957f-6fe5727bd42d",
   "metadata": {},
   "outputs": [
    {
     "data": {
      "text/plain": [
       "{1,\n",
       " 12,\n",
       " 2,\n",
       " 3,\n",
       " 4,\n",
       " 45,\n",
       " 567,\n",
       " 8,\n",
       " 85,\n",
       " 'Jadhav',\n",
       " 'P',\n",
       " 'Prashant',\n",
       " 'a',\n",
       " 'h',\n",
       " 'j',\n",
       " 'n',\n",
       " 'p',\n",
       " 'prashant',\n",
       " 'r',\n",
       " 's',\n",
       " 't'}"
      ]
     },
     "execution_count": 33,
     "metadata": {},
     "output_type": "execute_result"
    }
   ],
   "source": [
    "l"
   ]
  },
  {
   "cell_type": "code",
   "execution_count": 38,
   "id": "4a484c7b-cf93-4c29-91fe-02bba7cd3845",
   "metadata": {},
   "outputs": [
    {
     "data": {
      "text/plain": [
       "{1,\n",
       " 12,\n",
       " 2,\n",
       " 3,\n",
       " 4,\n",
       " 45,\n",
       " 567,\n",
       " 8,\n",
       " 85,\n",
       " 'Jadhav',\n",
       " 'P',\n",
       " 'Prashant',\n",
       " 'a',\n",
       " 'h',\n",
       " 'j',\n",
       " 'n',\n",
       " 'prashant',\n",
       " 'r',\n",
       " 's',\n",
       " 't'}"
      ]
     },
     "execution_count": 38,
     "metadata": {},
     "output_type": "execute_result"
    }
   ],
   "source": [
    "l"
   ]
  },
  {
   "cell_type": "code",
   "execution_count": 25,
   "id": "e65b7273-983b-4a1f-bb0b-e34acbb737d4",
   "metadata": {},
   "outputs": [],
   "source": [
    "l.update(\"Prashant\",\"pj\")"
   ]
  },
  {
   "cell_type": "code",
   "execution_count": 36,
   "id": "84186d20-9c0f-4879-9842-b17ad9390dac",
   "metadata": {
    "jupyter": {
     "source_hidden": true
    },
    "tags": []
   },
   "outputs": [
    {
     "data": {
      "text/plain": [
       "{1,\n",
       " 12,\n",
       " 2,\n",
       " 3,\n",
       " 4,\n",
       " 45,\n",
       " 567,\n",
       " 8,\n",
       " 85,\n",
       " 'Jadhav',\n",
       " 'P',\n",
       " 'Prashant',\n",
       " 'a',\n",
       " 'h',\n",
       " 'j',\n",
       " 'n',\n",
       " 'prashant',\n",
       " 'r',\n",
       " 's',\n",
       " 't'}"
      ]
     },
     "execution_count": 36,
     "metadata": {},
     "output_type": "execute_result"
    }
   ],
   "source": [
    "l"
   ]
  },
  {
   "cell_type": "code",
   "execution_count": 39,
   "id": "f1c60c17-5711-4b24-8a81-8dd313c4dec1",
   "metadata": {},
   "outputs": [],
   "source": [
    "s1={ 1,4,8}"
   ]
  },
  {
   "cell_type": "code",
   "execution_count": 42,
   "id": "1bab8e62-309f-4c6f-8ffc-72b1754c3fb6",
   "metadata": {},
   "outputs": [],
   "source": [
    "s1.update(\"pj\")"
   ]
  },
  {
   "cell_type": "code",
   "execution_count": 43,
   "id": "44d70322-9545-402a-b78e-6e9b03cae166",
   "metadata": {},
   "outputs": [
    {
     "data": {
      "text/plain": [
       "{1, 4, 8, 'j', 'p'}"
      ]
     },
     "execution_count": 43,
     "metadata": {},
     "output_type": "execute_result"
    }
   ],
   "source": [
    "s1"
   ]
  },
  {
   "cell_type": "code",
   "execution_count": 44,
   "id": "e053aabb-623c-4928-bd49-350b75df5871",
   "metadata": {},
   "outputs": [
    {
     "data": {
      "text/plain": [
       "{1,\n",
       " 12,\n",
       " 2,\n",
       " 3,\n",
       " 4,\n",
       " 45,\n",
       " 567,\n",
       " 8,\n",
       " 85,\n",
       " 'Jadhav',\n",
       " 'P',\n",
       " 'Prashant',\n",
       " 'a',\n",
       " 'h',\n",
       " 'j',\n",
       " 'n',\n",
       " 'prashant',\n",
       " 'r',\n",
       " 's',\n",
       " 't'}"
      ]
     },
     "execution_count": 44,
     "metadata": {},
     "output_type": "execute_result"
    }
   ],
   "source": [
    "l"
   ]
  },
  {
   "cell_type": "code",
   "execution_count": 55,
   "id": "5c9a4acb-a7e2-48c9-8e90-6cf65f9e3bdb",
   "metadata": {},
   "outputs": [
    {
     "data": {
      "text/plain": [
       "{1, 12, 2, 3, 4, 45, 567, 8, 85, 'Jadhav', 'Prashant', 'prashant'}"
      ]
     },
     "execution_count": 55,
     "metadata": {},
     "output_type": "execute_result"
    }
   ],
   "source": [
    "l.remove(\"j\")\n",
    "l"
   ]
  },
  {
   "cell_type": "code",
   "execution_count": 56,
   "id": "ae8f9799-56ec-43d2-b396-cf69d6db1257",
   "metadata": {},
   "outputs": [],
   "source": [
    "l.update(s1)"
   ]
  },
  {
   "cell_type": "code",
   "execution_count": 67,
   "id": "f79ce19e-6b86-4344-ae46-57cf89e60dfd",
   "metadata": {},
   "outputs": [
    {
     "data": {
      "text/plain": [
       "{1, 12, 2, 3, 4, 45, 567, 8, 85, 'Prashant', 'prashant'}"
      ]
     },
     "execution_count": 67,
     "metadata": {},
     "output_type": "execute_result"
    }
   ],
   "source": [
    "l"
   ]
  },
  {
   "cell_type": "code",
   "execution_count": 68,
   "id": "b329c653-1f3d-4fa9-b552-6344afbd8201",
   "metadata": {},
   "outputs": [],
   "source": [
    "l1=l.pop()"
   ]
  },
  {
   "cell_type": "code",
   "execution_count": 69,
   "id": "ccae8e7a-086e-4992-8e7c-a76752cc8532",
   "metadata": {},
   "outputs": [
    {
     "data": {
      "text/plain": [
       "1"
      ]
     },
     "execution_count": 69,
     "metadata": {},
     "output_type": "execute_result"
    }
   ],
   "source": [
    "l1"
   ]
  },
  {
   "cell_type": "code",
   "execution_count": 70,
   "id": "8073fa1e-222d-4e26-84e6-066adc7b650a",
   "metadata": {},
   "outputs": [
    {
     "data": {
      "text/plain": [
       "{12, 2, 3, 4, 45, 567, 8, 85, 'Prashant', 'prashant'}"
      ]
     },
     "execution_count": 70,
     "metadata": {},
     "output_type": "execute_result"
    }
   ],
   "source": [
    "l"
   ]
  },
  {
   "cell_type": "code",
   "execution_count": 71,
   "id": "b93a3582-54f5-4752-8d85-379d61df0248",
   "metadata": {},
   "outputs": [],
   "source": [
    "l.clear()"
   ]
  },
  {
   "cell_type": "code",
   "execution_count": 75,
   "id": "a92d3d4f-7f37-45e9-baeb-1c0786ac9a54",
   "metadata": {},
   "outputs": [
    {
     "data": {
      "text/plain": [
       "{1, 12, 2, 3, 4, 45, 567, 8, 85, 'Prashant', 'prashant'}"
      ]
     },
     "execution_count": 75,
     "metadata": {},
     "output_type": "execute_result"
    }
   ],
   "source": [
    "l"
   ]
  },
  {
   "cell_type": "code",
   "execution_count": 76,
   "id": "05101640-bb30-48ab-8f58-053b766c3975",
   "metadata": {},
   "outputs": [],
   "source": [
    "set1 = {1, 2, 3}\n",
    "set2 = {3, 4, 5}"
   ]
  },
  {
   "cell_type": "code",
   "execution_count": 77,
   "id": "e314e319-6fc8-4dcb-937d-de24ab563886",
   "metadata": {},
   "outputs": [
    {
     "data": {
      "text/plain": [
       "{1, 2, 3, 4, 5}"
      ]
     },
     "execution_count": 77,
     "metadata": {},
     "output_type": "execute_result"
    }
   ],
   "source": [
    "set1.union(set2)"
   ]
  },
  {
   "cell_type": "code",
   "execution_count": 78,
   "id": "76337df6-2bb4-4b58-b8ec-2a7e10517a08",
   "metadata": {},
   "outputs": [
    {
     "data": {
      "text/plain": [
       "{3}"
      ]
     },
     "execution_count": 78,
     "metadata": {},
     "output_type": "execute_result"
    }
   ],
   "source": [
    "set1.intersection(set2)"
   ]
  },
  {
   "cell_type": "code",
   "execution_count": 79,
   "id": "c1ed3e40-618a-4ca5-af56-de4c47e3c22c",
   "metadata": {},
   "outputs": [
    {
     "data": {
      "text/plain": [
       "False"
      ]
     },
     "execution_count": 79,
     "metadata": {},
     "output_type": "execute_result"
    }
   ],
   "source": [
    "set1.issuperset(set2)"
   ]
  },
  {
   "cell_type": "code",
   "execution_count": 80,
   "id": "8e109b1d-0a8a-4d1e-ba75-50136d2d7a40",
   "metadata": {},
   "outputs": [
    {
     "data": {
      "text/plain": [
       "{1, 2, 3}"
      ]
     },
     "execution_count": 80,
     "metadata": {},
     "output_type": "execute_result"
    }
   ],
   "source": [
    "set1"
   ]
  },
  {
   "cell_type": "code",
   "execution_count": 81,
   "id": "f57bac45-ca58-42a8-95a4-6d2473ea1471",
   "metadata": {},
   "outputs": [
    {
     "data": {
      "text/plain": [
       "{1, 2}"
      ]
     },
     "execution_count": 81,
     "metadata": {},
     "output_type": "execute_result"
    }
   ],
   "source": [
    "set1.difference(set2)"
   ]
  },
  {
   "cell_type": "code",
   "execution_count": 82,
   "id": "35433b47-8a35-474d-935c-f737a5d3458d",
   "metadata": {},
   "outputs": [
    {
     "data": {
      "text/plain": [
       "{4, 5}"
      ]
     },
     "execution_count": 82,
     "metadata": {},
     "output_type": "execute_result"
    }
   ],
   "source": [
    "set2.difference(set1)"
   ]
  },
  {
   "cell_type": "code",
   "execution_count": 83,
   "id": "74546485-e69d-4ba2-9eae-133d43a61df6",
   "metadata": {},
   "outputs": [],
   "source": [
    "# Dictionary "
   ]
  },
  {
   "cell_type": "code",
   "execution_count": 112,
   "id": "f612d0ca-6220-414d-b9d9-462abddf9d39",
   "metadata": {},
   "outputs": [],
   "source": [
    "d={'name':\"Prashant\", 'M_name':\"Shivaji\" ,'l_name':\"jadhav\" ,\"phno\":123456}"
   ]
  },
  {
   "cell_type": "code",
   "execution_count": 113,
   "id": "d0401b33-dad1-484f-8960-04e4c12326cb",
   "metadata": {},
   "outputs": [
    {
     "data": {
      "text/plain": [
       "{'name': 'Prashant', 'M_name': 'Shivaji', 'l_name': 'jadhav', 'phno': 123456}"
      ]
     },
     "execution_count": 113,
     "metadata": {},
     "output_type": "execute_result"
    }
   ],
   "source": [
    "d"
   ]
  },
  {
   "cell_type": "code",
   "execution_count": 95,
   "id": "7033c236-6814-42d8-9368-88b2e35fc654",
   "metadata": {},
   "outputs": [
    {
     "data": {
      "text/plain": [
       "dict"
      ]
     },
     "execution_count": 95,
     "metadata": {},
     "output_type": "execute_result"
    }
   ],
   "source": [
    "type(d)"
   ]
  },
  {
   "cell_type": "code",
   "execution_count": 104,
   "id": "80af5d66-57aa-40c1-972d-e6c084150d4e",
   "metadata": {},
   "outputs": [
    {
     "data": {
      "text/plain": [
       "'Prashant'"
      ]
     },
     "execution_count": 104,
     "metadata": {},
     "output_type": "execute_result"
    }
   ],
   "source": [
    "d['name']"
   ]
  },
  {
   "cell_type": "code",
   "execution_count": 105,
   "id": "ced2e7c0-dec1-4dee-ae57-a72bfecd3734",
   "metadata": {},
   "outputs": [
    {
     "data": {
      "text/plain": [
       "123456"
      ]
     },
     "execution_count": 105,
     "metadata": {},
     "output_type": "execute_result"
    }
   ],
   "source": [
    "d['phno']"
   ]
  },
  {
   "cell_type": "code",
   "execution_count": 106,
   "id": "89f03fdf-832c-4e58-9eb9-940031796dcf",
   "metadata": {},
   "outputs": [],
   "source": [
    "d1={'name':\"Prashant\", 'M_name':\"Shivaji\" ,'l_name':\"jadhav\" ,\"phno\":123456,\"name\":\"prashant\"}"
   ]
  },
  {
   "cell_type": "code",
   "execution_count": 107,
   "id": "50a77509-9adc-4ba6-9e57-78add18747c9",
   "metadata": {},
   "outputs": [
    {
     "data": {
      "text/plain": [
       "{'name': 'prashant', 'M_name': 'Shivaji', 'l_name': 'jadhav', 'phno': 123456}"
      ]
     },
     "execution_count": 107,
     "metadata": {},
     "output_type": "execute_result"
    }
   ],
   "source": [
    "d1"
   ]
  },
  {
   "cell_type": "code",
   "execution_count": 109,
   "id": "4b8b1faf-f205-4ad9-b2f8-6333e72d3c95",
   "metadata": {},
   "outputs": [],
   "source": [
    "d2={'name':\"Prashant\", \"cousrses\":[\"mca\",\"bsc\",\"ba\"]}"
   ]
  },
  {
   "cell_type": "code",
   "execution_count": 110,
   "id": "b9e15934-e03a-4a7d-877a-45b8dd9de40c",
   "metadata": {},
   "outputs": [
    {
     "data": {
      "text/plain": [
       "{'name': 'Prashant', 'cousrses': ['mca', 'bsc', 'ba']}"
      ]
     },
     "execution_count": 110,
     "metadata": {},
     "output_type": "execute_result"
    }
   ],
   "source": [
    "d2"
   ]
  },
  {
   "cell_type": "code",
   "execution_count": 111,
   "id": "74278235-9e38-4ada-989d-8e0325c50bbc",
   "metadata": {},
   "outputs": [
    {
     "data": {
      "text/plain": [
       "'bsc'"
      ]
     },
     "execution_count": 111,
     "metadata": {},
     "output_type": "execute_result"
    }
   ],
   "source": [
    "d2[\"cousrses\"][1]"
   ]
  },
  {
   "cell_type": "code",
   "execution_count": 128,
   "id": "73722390-0b7b-4d98-8c18-ae5b8cd3af56",
   "metadata": {},
   "outputs": [],
   "source": [
    "d4={ \"number\" : [1,34,3,34,34] , \"assignment \" : (1,2,3,4,5,6)}"
   ]
  },
  {
   "cell_type": "code",
   "execution_count": 129,
   "id": "e266b11f-5c91-4a66-a4ef-34064e25c7ea",
   "metadata": {},
   "outputs": [
    {
     "data": {
      "text/plain": [
       "{'number': [1, 34, 3, 34, 34], 'assignment ': (1, 2, 3, 4, 5, 6)}"
      ]
     },
     "execution_count": 129,
     "metadata": {},
     "output_type": "execute_result"
    }
   ],
   "source": [
    "d4"
   ]
  },
  {
   "cell_type": "code",
   "execution_count": 135,
   "id": "de2a79c9-f4d8-45e8-bffe-0ed4532756f1",
   "metadata": {},
   "outputs": [
    {
     "data": {
      "text/plain": [
       "(1, 2, 3, 4, 5, 6)"
      ]
     },
     "execution_count": 135,
     "metadata": {},
     "output_type": "execute_result"
    }
   ],
   "source": [
    "d4['assignment ']"
   ]
  },
  {
   "cell_type": "code",
   "execution_count": 134,
   "id": "f1916a7f-c236-4da9-b9df-5dd130968daf",
   "metadata": {},
   "outputs": [
    {
     "data": {
      "text/plain": [
       "{'number': [1, 34, 3, 34, 34], 'assignment ': (1, 2, 3, 4, 5, 6)}"
      ]
     },
     "execution_count": 134,
     "metadata": {},
     "output_type": "execute_result"
    }
   ],
   "source": [
    "d4"
   ]
  },
  {
   "cell_type": "code",
   "execution_count": 136,
   "id": "b2d4f2c8-26f8-40d8-b35f-2e303aee451d",
   "metadata": {},
   "outputs": [],
   "source": [
    "D5={\"number\":[1,2,3,4,5,6,7] ,  'assignment ': (1, 2, 3, 4, 5, 6) , \"lanch_date\":{12,14,5}, \"Class_time \":{\"Web_dev\":8 , \"Data Science Master \":8 ,\"Java design\":7 , }}"
   ]
  },
  {
   "cell_type": "code",
   "execution_count": 137,
   "id": "33136407-5ce7-4076-9ae7-473054dfe419",
   "metadata": {},
   "outputs": [
    {
     "data": {
      "text/plain": [
       "{'number': [1, 2, 3, 4, 5, 6, 7],\n",
       " 'assignment ': (1, 2, 3, 4, 5, 6),\n",
       " 'lanch_date': {5, 12, 14},\n",
       " 'Class_time ': {'Web_dev': 8, 'Data Science Master ': 8, 'Java design': 7}}"
      ]
     },
     "execution_count": 137,
     "metadata": {},
     "output_type": "execute_result"
    }
   ],
   "source": [
    "D5"
   ]
  },
  {
   "cell_type": "code",
   "execution_count": 138,
   "id": "3eccb697-8f0e-4fad-9c7d-883510870069",
   "metadata": {},
   "outputs": [
    {
     "data": {
      "text/plain": [
       "{5, 12, 14}"
      ]
     },
     "execution_count": 138,
     "metadata": {},
     "output_type": "execute_result"
    }
   ],
   "source": [
    "D5['lanch_date']"
   ]
  },
  {
   "cell_type": "code",
   "execution_count": 149,
   "id": "f13ca1b8-6a61-45ed-b6e1-087b596aa29e",
   "metadata": {},
   "outputs": [],
   "source": [
    "d5 =list(D5['lanch_date'])"
   ]
  },
  {
   "cell_type": "code",
   "execution_count": 150,
   "id": "5a69b098-276a-4ab2-b10a-1d9ab42c01da",
   "metadata": {},
   "outputs": [
    {
     "data": {
      "text/plain": [
       "[12, 5, 14]"
      ]
     },
     "execution_count": 150,
     "metadata": {},
     "output_type": "execute_result"
    }
   ],
   "source": [
    "d5"
   ]
  },
  {
   "cell_type": "code",
   "execution_count": 151,
   "id": "d32c7a5e-41ae-4345-bc0e-0826f6b1d84b",
   "metadata": {},
   "outputs": [],
   "source": [
    "d5 =list(D5['lanch_date'])[0]"
   ]
  },
  {
   "cell_type": "code",
   "execution_count": 152,
   "id": "acbb3e84-ada7-4726-9582-ef47607bfa8b",
   "metadata": {},
   "outputs": [
    {
     "data": {
      "text/plain": [
       "12"
      ]
     },
     "execution_count": 152,
     "metadata": {},
     "output_type": "execute_result"
    }
   ],
   "source": [
    "d5"
   ]
  },
  {
   "cell_type": "code",
   "execution_count": 153,
   "id": "ecb90913-18e9-4b34-bf8c-f8afebb49a1c",
   "metadata": {},
   "outputs": [
    {
     "data": {
      "text/plain": [
       "dict_keys(['number', 'assignment ', 'lanch_date', 'Class_time '])"
      ]
     },
     "execution_count": 153,
     "metadata": {},
     "output_type": "execute_result"
    }
   ],
   "source": [
    "D5.keys()"
   ]
  },
  {
   "cell_type": "code",
   "execution_count": 154,
   "id": "657b6adc-0f2d-4fc1-8ddc-8b13aa932286",
   "metadata": {},
   "outputs": [
    {
     "ename": "TypeError",
     "evalue": "get expected at least 1 argument, got 0",
     "output_type": "error",
     "traceback": [
      "\u001b[0;31m---------------------------------------------------------------------------\u001b[0m",
      "\u001b[0;31mTypeError\u001b[0m                                 Traceback (most recent call last)",
      "Cell \u001b[0;32mIn[154], line 1\u001b[0m\n\u001b[0;32m----> 1\u001b[0m \u001b[43mD5\u001b[49m\u001b[38;5;241;43m.\u001b[39;49m\u001b[43mget\u001b[49m\u001b[43m(\u001b[49m\u001b[43m)\u001b[49m\n",
      "\u001b[0;31mTypeError\u001b[0m: get expected at least 1 argument, got 0"
     ]
    }
   ],
   "source": [
    "D5.get()"
   ]
  },
  {
   "cell_type": "code",
   "execution_count": 155,
   "id": "b83fdb3c-146f-46b0-8742-5db2291fbeec",
   "metadata": {},
   "outputs": [
    {
     "data": {
      "text/plain": [
       "['number', 'assignment ', 'lanch_date', 'Class_time ']"
      ]
     },
     "execution_count": 155,
     "metadata": {},
     "output_type": "execute_result"
    }
   ],
   "source": [
    "list(D5.keys())"
   ]
  },
  {
   "cell_type": "code",
   "execution_count": 156,
   "id": "17792445-d92f-41c1-a7fb-83d39acb1788",
   "metadata": {},
   "outputs": [
    {
     "data": {
      "text/plain": [
       "dict_values([[1, 2, 3, 4, 5, 6, 7], (1, 2, 3, 4, 5, 6), {12, 5, 14}, {'Web_dev': 8, 'Data Science Master ': 8, 'Java design': 7}])"
      ]
     },
     "execution_count": 156,
     "metadata": {},
     "output_type": "execute_result"
    }
   ],
   "source": [
    "D5.values()"
   ]
  },
  {
   "cell_type": "code",
   "execution_count": 158,
   "id": "8457381c-fd4c-4b84-9399-dff73120494c",
   "metadata": {},
   "outputs": [
    {
     "data": {
      "text/plain": [
       "[[1, 2, 3, 4, 5, 6, 7],\n",
       " (1, 2, 3, 4, 5, 6),\n",
       " {5, 12, 14},\n",
       " {'Web_dev': 8, 'Data Science Master ': 8, 'Java design': 7}]"
      ]
     },
     "execution_count": 158,
     "metadata": {},
     "output_type": "execute_result"
    }
   ],
   "source": [
    "list(D5.values())"
   ]
  },
  {
   "cell_type": "code",
   "execution_count": 160,
   "id": "1fc10249-d4ed-484f-bbc9-3b737021adeb",
   "metadata": {},
   "outputs": [
    {
     "data": {
      "text/plain": [
       "dict_items([('number', [1, 2, 3, 4, 5, 6, 7]), ('assignment ', (1, 2, 3, 4, 5, 6)), ('lanch_date', {12, 5, 14}), ('Class_time ', {'Web_dev': 8, 'Data Science Master ': 8, 'Java design': 7})])"
      ]
     },
     "execution_count": 160,
     "metadata": {},
     "output_type": "execute_result"
    }
   ],
   "source": [
    "D5.items()"
   ]
  },
  {
   "cell_type": "code",
   "execution_count": 161,
   "id": "e880b247-01f5-4938-a54c-c634a2815e5a",
   "metadata": {},
   "outputs": [
    {
     "data": {
      "text/plain": [
       "[('number', [1, 2, 3, 4, 5, 6, 7]),\n",
       " ('assignment ', (1, 2, 3, 4, 5, 6)),\n",
       " ('lanch_date', {5, 12, 14}),\n",
       " ('Class_time ', {'Web_dev': 8, 'Data Science Master ': 8, 'Java design': 7})]"
      ]
     },
     "execution_count": 161,
     "metadata": {},
     "output_type": "execute_result"
    }
   ],
   "source": [
    "list(D5.items())"
   ]
  },
  {
   "cell_type": "code",
   "execution_count": 162,
   "id": "fff6315b-9fda-4fc9-a68c-5b371e72f273",
   "metadata": {},
   "outputs": [
    {
     "ename": "TypeError",
     "evalue": "pop expected at least 1 argument, got 0",
     "output_type": "error",
     "traceback": [
      "\u001b[0;31m---------------------------------------------------------------------------\u001b[0m",
      "\u001b[0;31mTypeError\u001b[0m                                 Traceback (most recent call last)",
      "Cell \u001b[0;32mIn[162], line 1\u001b[0m\n\u001b[0;32m----> 1\u001b[0m \u001b[43mD5\u001b[49m\u001b[38;5;241;43m.\u001b[39;49m\u001b[43mpop\u001b[49m\u001b[43m(\u001b[49m\u001b[43m)\u001b[49m\n",
      "\u001b[0;31mTypeError\u001b[0m: pop expected at least 1 argument, got 0"
     ]
    }
   ],
   "source": [
    "D5.pop()"
   ]
  },
  {
   "cell_type": "code",
   "execution_count": 163,
   "id": "f7657973-6302-41c2-9372-0846ac03fd2f",
   "metadata": {},
   "outputs": [
    {
     "data": {
      "text/plain": [
       "('Class_time ', {'Web_dev': 8, 'Data Science Master ': 8, 'Java design': 7})"
      ]
     },
     "execution_count": 163,
     "metadata": {},
     "output_type": "execute_result"
    }
   ],
   "source": [
    "list(D5.items()).pop()"
   ]
  },
  {
   "cell_type": "code",
   "execution_count": 164,
   "id": "72326c44-278f-446a-80b5-60bafed01f87",
   "metadata": {},
   "outputs": [
    {
     "data": {
      "text/plain": [
       "{'number': [1, 2, 3, 4, 5, 6, 7],\n",
       " 'assignment ': (1, 2, 3, 4, 5, 6),\n",
       " 'lanch_date': {5, 12, 14},\n",
       " 'Class_time ': {'Web_dev': 8, 'Data Science Master ': 8, 'Java design': 7}}"
      ]
     },
     "execution_count": 164,
     "metadata": {},
     "output_type": "execute_result"
    }
   ],
   "source": [
    "D5"
   ]
  },
  {
   "cell_type": "code",
   "execution_count": 165,
   "id": "8f4a8a76-cbd5-4cbf-b9a9-a4443c7ee098",
   "metadata": {},
   "outputs": [
    {
     "data": {
      "text/plain": [
       "[1, 2, 3, 4, 5, 6, 7]"
      ]
     },
     "execution_count": 165,
     "metadata": {},
     "output_type": "execute_result"
    }
   ],
   "source": [
    "D5.get('number')"
   ]
  },
  {
   "cell_type": "code",
   "execution_count": 166,
   "id": "e2bd0c81-9afd-4caa-846f-20b63b23318e",
   "metadata": {},
   "outputs": [
    {
     "data": {
      "text/plain": [
       "{5, 12, 14}"
      ]
     },
     "execution_count": 166,
     "metadata": {},
     "output_type": "execute_result"
    }
   ],
   "source": [
    "D5.get('lanch_date')"
   ]
  },
  {
   "cell_type": "code",
   "execution_count": 167,
   "id": "f502ac10-02e3-480c-9d70-4868291bd012",
   "metadata": {},
   "outputs": [
    {
     "data": {
      "text/plain": [
       "('Class_time ', {'Web_dev': 8, 'Data Science Master ': 8, 'Java design': 7})"
      ]
     },
     "execution_count": 167,
     "metadata": {},
     "output_type": "execute_result"
    }
   ],
   "source": [
    "D5.popitem()"
   ]
  },
  {
   "cell_type": "code",
   "execution_count": 168,
   "id": "0c17a473-ac8f-46b6-9f73-4c1126450ae3",
   "metadata": {},
   "outputs": [],
   "source": [
    "#Control Statements \n",
    "# if ested_if if_else if_el_if \n",
    "\n",
    "\n"
   ]
  },
  {
   "cell_type": "code",
   "execution_count": 181,
   "id": "b9355683-242a-4f4b-a24e-d122fa0a192d",
   "metadata": {},
   "outputs": [
    {
     "name": "stdout",
     "output_type": "stream",
     "text": [
      "4 is not equal 3\n"
     ]
    }
   ],
   "source": [
    "a=4\n",
    "b=3\n",
    "if(a==b):\n",
    "    print(a,\"is equal\",b)\n",
    "else:\n",
    "    print(a,\"is not equal\",b)"
   ]
  },
  {
   "cell_type": "code",
   "execution_count": 182,
   "id": "9cc1e2ca-591b-47c9-82cf-ec93ba1cf03f",
   "metadata": {},
   "outputs": [
    {
     "name": "stdout",
     "output_type": "stream",
     "text": [
      " 45\n",
      " 76\n"
     ]
    },
    {
     "name": "stdout",
     "output_type": "stream",
     "text": [
      "45 is not equal 76\n"
     ]
    }
   ],
   "source": [
    "a=input()\n",
    "b=input()\n",
    "if(a==b):\n",
    "    print(a,\"is equal\",b)\n",
    "else:\n",
    "    print(a,\"is not equal\",b)"
   ]
  },
  {
   "cell_type": "code",
   "execution_count": 185,
   "id": "eab0a0d4-45b7-44c2-93ea-f946574da063",
   "metadata": {},
   "outputs": [
    {
     "name": "stdout",
     "output_type": "stream",
     "text": [
      " 12\n",
      " 12\n"
     ]
    },
    {
     "name": "stdout",
     "output_type": "stream",
     "text": [
      "12 is equal 12\n"
     ]
    }
   ],
   "source": [
    "a=input()\n",
    "b=input()\n",
    "if(a==b):\n",
    "    print(a,\"is equal\",b)\n",
    "elif(a>=b):\n",
    "    print(a,\"is greter than\",b)\n",
    "elif(a<=b):\n",
    "    print(b,\"is greater than\",a)\n",
    "else:\n",
    "     print(\"check numbers\",a)\n",
    "   \n",
    "\n",
    "        "
   ]
  },
  {
   "cell_type": "code",
   "execution_count": null,
   "id": "c05a0052-39ea-48ee-ae62-5acbda86340c",
   "metadata": {},
   "outputs": [],
   "source": [
    "\n",
    "a=int(input())\n",
    "\n",
    "if(a>=80):\n",
    "    print(\"A\")\n",
    "elif(a>=60 and a<80):\n",
    "    print(\"B\")\n",
    "elif(a>=40 and a<60):\n",
    "    print(\"C\")   \n",
    "else:\n",
    "    print(\"D\")"
   ]
  },
  {
   "cell_type": "code",
   "execution_count": null,
   "id": "547fde75-e175-4cf4-9772-12ec3427104d",
   "metadata": {},
   "outputs": [],
   "source": []
  },
  {
   "cell_type": "code",
   "execution_count": null,
   "id": "4f51e191-793e-48f0-9778-3b0a9a89a18d",
   "metadata": {},
   "outputs": [],
   "source": [
    "\n",
    "a=int(input())\n",
    "\n",
    "if(a>=80):\n",
    "    print(\"A\")\n",
    "elif(a>=60 and a<80):\n",
    "    print(\"B\")\n",
    "elif(a>=40 and a<60):\n",
    "    print(\"C\")   \n",
    "else:\n",
    "    print(\"D\")"
   ]
  },
  {
   "cell_type": "code",
   "execution_count": null,
   "id": "4306b10a-e66b-4bf1-93ec-b1248cdd1875",
   "metadata": {},
   "outputs": [],
   "source": [
    "\n",
    "a=int(input())\n",
    "\n",
    "if(a>=80):\n",
    "    print(\"A\")\n",
    "elif(a>=60 and a<80):\n",
    "    print(\"B\")\n",
    "elif(a>=40 and a<60):\n",
    "    print(\"C\")   \n",
    "else:\n",
    "    print(\"D\")"
   ]
  },
  {
   "cell_type": "code",
   "execution_count": null,
   "id": "0e73331c-6cfc-4c23-a40a-2e413d1892cc",
   "metadata": {},
   "outputs": [],
   "source": []
  },
  {
   "cell_type": "code",
   "execution_count": 1,
   "id": "f89d711b-ea1b-4628-a646-46f2a62d3967",
   "metadata": {},
   "outputs": [
    {
     "name": "stdout",
     "output_type": "stream",
     "text": [
      " 5\n"
     ]
    },
    {
     "name": "stdout",
     "output_type": "stream",
     "text": [
      "D\n"
     ]
    }
   ],
   "source": [
    "\n",
    "a=int(input())\n",
    "\n",
    "if(a>=80):\n",
    "    print(\"A\")\n",
    "elif(a>=60 and a<80):\n",
    "    print(\"B\")\n",
    "elif(a>=40 and a<60):\n",
    "    print(\"C\")   \n",
    "else:\n",
    "    print(\"D\")"
   ]
  },
  {
   "cell_type": "code",
   "execution_count": null,
   "id": "d5ffc9a3-00e5-42ae-8d17-bd88ab2d295d",
   "metadata": {},
   "outputs": [],
   "source": []
  },
  {
   "cell_type": "code",
   "execution_count": null,
   "id": "a9428a7d-8886-4ed6-a43f-0ee0417f1615",
   "metadata": {},
   "outputs": [],
   "source": []
  }
 ],
 "metadata": {
  "kernelspec": {
   "display_name": "Python 3 (ipykernel)",
   "language": "python",
   "name": "python3"
  },
  "language_info": {
   "codemirror_mode": {
    "name": "ipython",
    "version": 3
   },
   "file_extension": ".py",
   "mimetype": "text/x-python",
   "name": "python",
   "nbconvert_exporter": "python",
   "pygments_lexer": "ipython3",
   "version": "3.11.2"
  }
 },
 "nbformat": 4,
 "nbformat_minor": 5
}
